{
 "cells": [
  {
   "cell_type": "markdown",
   "id": "9b853426",
   "metadata": {},
   "source": [
    "## This notebook is for fetching data, if you have the data \"binance_30m_data.csv\" locally, directly go to cryptocurrency_analysis"
   ]
  },
  {
   "cell_type": "code",
   "execution_count": 1,
   "id": "2b535b9b",
   "metadata": {
    "scrolled": false
   },
   "outputs": [
    {
     "name": "stdout",
     "output_type": "stream",
     "text": [
      "\u001b[32mJUNXUN LIU 1005836259\u001b[0m\n"
     ]
    }
   ],
   "source": [
    "print('\\033[32mJUNXUN LIU 1005836259\\033[0m')"
   ]
  },
  {
   "cell_type": "code",
   "execution_count": 1,
   "id": "188c14a8",
   "metadata": {},
   "outputs": [
    {
     "name": "stdout",
     "output_type": "stream",
     "text": [
      "C:\\Users\\devin\\anaconda3\\envs\\py39\\python.exe\n",
      "3.9.16 (main, Mar  8 2023, 10:39:24) [MSC v.1916 64 bit (AMD64)]\n",
      "sys.version_info(major=3, minor=9, micro=16, releaselevel='final', serial=0)\n"
     ]
    }
   ],
   "source": [
    "import sys\n",
    "print(sys.executable)\n",
    "print(sys.version)\n",
    "print(sys.version_info)"
   ]
  },
  {
   "cell_type": "code",
   "execution_count": 5,
   "id": "f43e2b18",
   "metadata": {},
   "outputs": [],
   "source": [
    "import pandas as pd\n",
    "import numpy as np\n",
    "import matplotlib.pyplot as plt\n",
    "import time\n",
    "import pytz\n",
    "import datetime\n",
    "try:\n",
    "    import ccxt\n",
    "except ImportError:\n",
    "    ! pip install ccxt\n",
    "    import talib\n",
    "    import ccxt\n",
    "import time\n",
    "\n",
    "pd.set_option('display.max_rows', 5000)\n",
    "pd.set_option('expand_frame_repr', False)"
   ]
  },
  {
   "cell_type": "code",
   "execution_count": 6,
   "id": "12f33081",
   "metadata": {},
   "outputs": [],
   "source": [
    "currency_lst = ['ETH/USDT', 'DOGE/USDT', 'SOL/USDT', 'FIL/USDT', 'LTC/USDT', 'BNB/USDT', 'SHIB/USDT', 'XRP/USDT', 'AAVE/USDT', ]"
   ]
  },
  {
   "cell_type": "code",
   "execution_count": 7,
   "id": "bb8e607f",
   "metadata": {},
   "outputs": [],
   "source": [
    "# create the exchange object\n",
    "exchange = ccxt.binance()\n",
    "# set the timeframe to 1 minute\n",
    "timeframe = '30m'\n",
    "# set the start time to 1 month before\n",
    "start_time = int(datetime.datetime.strptime(\"2022-01-01 00:00:00\", \"%Y-%m-%d %H:%M:%S\").timestamp() * 1000)\n",
    "# set the end time to the current time\n",
    "end_time = int(datetime.datetime.strptime(\"2023-01-01 00:00:00\", \"%Y-%m-%d %H:%M:%S\").timestamp() * 1000)\n",
    "# set the number of data points to fetch per API request\n",
    "limit = 1000"
   ]
  },
  {
   "cell_type": "code",
   "execution_count": 8,
   "id": "62753cb5",
   "metadata": {},
   "outputs": [],
   "source": [
    "# create an empty dataframe to hold the results\n",
    "df_btc = pd.DataFrame()"
   ]
  },
  {
   "cell_type": "code",
   "execution_count": 9,
   "id": "b5ca8531",
   "metadata": {
    "scrolled": false
   },
   "outputs": [],
   "source": [
    "# loop through the time range and fetch data\n",
    "while start_time < end_time:\n",
    "    # fetch the OHLCV data\n",
    "    ohlcv_btc = exchange.fetch_ohlcv('BTC/USDT', timeframe, since=start_time, limit=limit)\n",
    "    # convert the data to a pandas dataframe\n",
    "    df = pd.DataFrame(ohlcv_btc, columns=['timestamp', 'open', 'high', 'low', 'BTC_close', 'BTC_volume'])\n",
    "    # append the data to the main dataframe\n",
    "    df_btc = pd.concat([df_btc, df])\n",
    "    # set the start time for the next request\n",
    "    start_time = int(df['timestamp'].iloc[-1]) + 60 * 1000"
   ]
  },
  {
   "cell_type": "code",
   "execution_count": 10,
   "id": "77ab6ecb",
   "metadata": {},
   "outputs": [],
   "source": [
    "# convert the timestamp to datetime format and set timezone Toronto time\n",
    "df_btc['timestamp'] = pd.to_datetime(df_btc['timestamp'], unit='ms').dt.tz_localize('UTC').dt.tz_convert('America/Toronto').dt.strftime('%Y-%m-%d %H:%M:%S')"
   ]
  },
  {
   "cell_type": "code",
   "execution_count": 11,
   "id": "6fb65ac5",
   "metadata": {},
   "outputs": [],
   "source": [
    "# set the timestamp as the index\n",
    "df_btc.set_index('timestamp', inplace=True)"
   ]
  },
  {
   "cell_type": "code",
   "execution_count": 12,
   "id": "0c10a9b4",
   "metadata": {},
   "outputs": [],
   "source": [
    "# get close price and volume for BTC\n",
    "df_btc_px = df_btc['BTC_close']\n",
    "df_btc_vol = df_btc['BTC_volume']\n",
    "df = pd.merge(df_btc_px, df_btc_vol, on='timestamp')"
   ]
  },
  {
   "cell_type": "code",
   "execution_count": 13,
   "id": "73708ce5",
   "metadata": {},
   "outputs": [
    {
     "data": {
      "text/html": [
       "<div>\n",
       "<style scoped>\n",
       "    .dataframe tbody tr th:only-of-type {\n",
       "        vertical-align: middle;\n",
       "    }\n",
       "\n",
       "    .dataframe tbody tr th {\n",
       "        vertical-align: top;\n",
       "    }\n",
       "\n",
       "    .dataframe thead th {\n",
       "        text-align: right;\n",
       "    }\n",
       "</style>\n",
       "<table border=\"1\" class=\"dataframe\">\n",
       "  <thead>\n",
       "    <tr style=\"text-align: right;\">\n",
       "      <th></th>\n",
       "      <th>BTC_close</th>\n",
       "      <th>BTC_volume</th>\n",
       "    </tr>\n",
       "    <tr>\n",
       "      <th>timestamp</th>\n",
       "      <th></th>\n",
       "      <th></th>\n",
       "    </tr>\n",
       "  </thead>\n",
       "  <tbody>\n",
       "    <tr>\n",
       "      <th>2022-01-01 00:00:00</th>\n",
       "      <td>47379.13</td>\n",
       "      <td>793.08192</td>\n",
       "    </tr>\n",
       "    <tr>\n",
       "      <th>2022-01-01 00:30:00</th>\n",
       "      <td>47192.55</td>\n",
       "      <td>607.65450</td>\n",
       "    </tr>\n",
       "    <tr>\n",
       "      <th>2022-01-01 01:00:00</th>\n",
       "      <td>47130.36</td>\n",
       "      <td>267.90481</td>\n",
       "    </tr>\n",
       "    <tr>\n",
       "      <th>2022-01-01 01:30:00</th>\n",
       "      <td>46979.62</td>\n",
       "      <td>346.07295</td>\n",
       "    </tr>\n",
       "    <tr>\n",
       "      <th>2022-01-01 02:00:00</th>\n",
       "      <td>46959.61</td>\n",
       "      <td>295.25750</td>\n",
       "    </tr>\n",
       "    <tr>\n",
       "      <th>...</th>\n",
       "      <td>...</td>\n",
       "      <td>...</td>\n",
       "    </tr>\n",
       "    <tr>\n",
       "      <th>2023-01-10 21:30:00</th>\n",
       "      <td>17388.20</td>\n",
       "      <td>4010.98004</td>\n",
       "    </tr>\n",
       "    <tr>\n",
       "      <th>2023-01-10 22:00:00</th>\n",
       "      <td>17410.69</td>\n",
       "      <td>4549.10986</td>\n",
       "    </tr>\n",
       "    <tr>\n",
       "      <th>2023-01-10 22:30:00</th>\n",
       "      <td>17416.14</td>\n",
       "      <td>2853.62609</td>\n",
       "    </tr>\n",
       "    <tr>\n",
       "      <th>2023-01-10 23:00:00</th>\n",
       "      <td>17406.81</td>\n",
       "      <td>2296.03146</td>\n",
       "    </tr>\n",
       "    <tr>\n",
       "      <th>2023-01-10 23:30:00</th>\n",
       "      <td>17408.39</td>\n",
       "      <td>2954.30269</td>\n",
       "    </tr>\n",
       "  </tbody>\n",
       "</table>\n",
       "<p>18004 rows × 2 columns</p>\n",
       "</div>"
      ],
      "text/plain": [
       "                     BTC_close  BTC_volume\n",
       "timestamp                                 \n",
       "2022-01-01 00:00:00   47379.13   793.08192\n",
       "2022-01-01 00:30:00   47192.55   607.65450\n",
       "2022-01-01 01:00:00   47130.36   267.90481\n",
       "2022-01-01 01:30:00   46979.62   346.07295\n",
       "2022-01-01 02:00:00   46959.61   295.25750\n",
       "...                        ...         ...\n",
       "2023-01-10 21:30:00   17388.20  4010.98004\n",
       "2023-01-10 22:00:00   17410.69  4549.10986\n",
       "2023-01-10 22:30:00   17416.14  2853.62609\n",
       "2023-01-10 23:00:00   17406.81  2296.03146\n",
       "2023-01-10 23:30:00   17408.39  2954.30269\n",
       "\n",
       "[18004 rows x 2 columns]"
      ]
     },
     "execution_count": 13,
     "metadata": {},
     "output_type": "execute_result"
    }
   ],
   "source": [
    "df"
   ]
  },
  {
   "cell_type": "markdown",
   "id": "95f57361",
   "metadata": {},
   "source": [
    "#### Get data for rest 9 cryptos, please wait for API to fetch data, it may takes 2 minutes to get 10 cryptos data. This is because when request data from binance, it only gives 1000 data once (OKX is 100). Should use while loop to get full data."
   ]
  },
  {
   "cell_type": "code",
   "execution_count": 14,
   "id": "decf29e1",
   "metadata": {},
   "outputs": [],
   "source": [
    "for crypto in currency_lst:\n",
    "    cur = crypto[:-5]\n",
    "    close = cur + '_close'\n",
    "    volume = cur + '_volume'\n",
    "    start_time = int(datetime.datetime.strptime(\"2022-01-01 00:00:00\", \"%Y-%m-%d %H:%M:%S\").timestamp() * 1000)\n",
    "    df_crypto = pd.DataFrame()\n",
    "    while start_time < end_time:\n",
    "        # fetch the OHLCV data\n",
    "        ohlcv_temp = exchange.fetch_ohlcv(crypto, timeframe, since=start_time, limit=limit)\n",
    "        # convert the data to a pandas dataframe\n",
    "        df_temp = pd.DataFrame(ohlcv_temp, columns=['timestamp', 'open', 'high', 'low', close, volume])\n",
    "        # append the data to the main dataframe\n",
    "        df_crypto = pd.concat([df_crypto, df_temp])\n",
    "        # set the start time for the next request\n",
    "        start_time = int(df_temp['timestamp'].iloc[-1]) + 60 * 1000\n",
    "    df_crypto['timestamp'] = pd.to_datetime(df_crypto['timestamp'], unit='ms').dt.tz_localize('UTC').dt.tz_convert('America/Toronto').dt.strftime('%Y-%m-%d %H:%M:%S')\n",
    "    # set the timestamp as the index\n",
    "    df_crypto.set_index('timestamp', inplace=True)\n",
    "    df_crypto_px = df_crypto[close]\n",
    "    df_crypto_vol = df_crypto[volume]\n",
    "    df_merge = pd.merge(df_crypto_px, df_crypto_vol, on='timestamp')\n",
    "    df = pd.merge(df, df_merge, on='timestamp')"
   ]
  },
  {
   "cell_type": "code",
   "execution_count": 15,
   "id": "8a1f72d4",
   "metadata": {},
   "outputs": [],
   "source": [
    "# Use exactly 1 moth data\n",
    "df = df.loc['2022-01-01 00:00:00':'2023-01-01 00:00:00']"
   ]
  },
  {
   "cell_type": "code",
   "execution_count": 16,
   "id": "48a68564",
   "metadata": {},
   "outputs": [],
   "source": [
    "df.to_csv(\"data/binance_30m_data.csv\", index=True)"
   ]
  }
 ],
 "metadata": {
  "kernelspec": {
   "display_name": "Python 3 (ipykernel)",
   "language": "python",
   "name": "python3"
  },
  "language_info": {
   "codemirror_mode": {
    "name": "ipython",
    "version": 3
   },
   "file_extension": ".py",
   "mimetype": "text/x-python",
   "name": "python",
   "nbconvert_exporter": "python",
   "pygments_lexer": "ipython3",
   "version": "3.9.16"
  }
 },
 "nbformat": 4,
 "nbformat_minor": 5
}
