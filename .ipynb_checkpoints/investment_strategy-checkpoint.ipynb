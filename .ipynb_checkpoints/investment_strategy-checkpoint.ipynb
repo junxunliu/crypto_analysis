{
 "cells": [
  {
   "cell_type": "markdown",
   "id": "36937c3b",
   "metadata": {},
   "source": [
    "### Result Tests"
   ]
  },
  {
   "cell_type": "markdown",
   "id": "8fffc961",
   "metadata": {},
   "source": [
    "A test strategy base on evidence shown above. Invest current 6:00 to 6:30 cryptos due to return in the same time slot on yesterday, do a reversal investment. If return of 6:30 on yesterday is negative, we short at 6:00 and long at 6:30 today.\n",
    "\n",
    "Let's invest FIL at fix position of 10."
   ]
  },
  {
   "cell_type": "code",
   "execution_count": 7,
   "id": "c7d177e2",
   "metadata": {},
   "outputs": [],
   "source": [
    "import pandas as pd\n",
    "import numpy as np\n",
    "import matplotlib.pyplot as plt\n",
    "import warnings\n",
    "warnings.filterwarnings(\"ignore\")"
   ]
  },
  {
   "cell_type": "code",
   "execution_count": 3,
   "id": "67492205",
   "metadata": {},
   "outputs": [],
   "source": [
    "df = pd.read_csv('data/binance_30m_data.csv', index_col='timestamp', parse_dates=True)\n",
    "df_returns = pd.read_csv('data/returns_data.csv', index_col='timestamp', parse_dates=True)"
   ]
  },
  {
   "cell_type": "code",
   "execution_count": 4,
   "id": "e24b2b1d",
   "metadata": {},
   "outputs": [
    {
     "data": {
      "text/html": [
       "<div>\n",
       "<style scoped>\n",
       "    .dataframe tbody tr th:only-of-type {\n",
       "        vertical-align: middle;\n",
       "    }\n",
       "\n",
       "    .dataframe tbody tr th {\n",
       "        vertical-align: top;\n",
       "    }\n",
       "\n",
       "    .dataframe thead th {\n",
       "        text-align: right;\n",
       "    }\n",
       "</style>\n",
       "<table border=\"1\" class=\"dataframe\">\n",
       "  <thead>\n",
       "    <tr style=\"text-align: right;\">\n",
       "      <th></th>\n",
       "      <th>BTC_close</th>\n",
       "      <th>BTC_volume</th>\n",
       "      <th>ETH_close</th>\n",
       "      <th>ETH_volume</th>\n",
       "      <th>DOGE_close</th>\n",
       "      <th>DOGE_volume</th>\n",
       "      <th>SOL_close</th>\n",
       "      <th>SOL_volume</th>\n",
       "      <th>FIL_close</th>\n",
       "      <th>FIL_volume</th>\n",
       "      <th>LTC_close</th>\n",
       "      <th>LTC_volume</th>\n",
       "      <th>BNB_close</th>\n",
       "      <th>BNB_volume</th>\n",
       "      <th>SHIB_close</th>\n",
       "      <th>SHIB_volume</th>\n",
       "      <th>XRP_close</th>\n",
       "      <th>XRP_volume</th>\n",
       "      <th>AAVE_close</th>\n",
       "      <th>AAVE_volume</th>\n",
       "    </tr>\n",
       "    <tr>\n",
       "      <th>timestamp</th>\n",
       "      <th></th>\n",
       "      <th></th>\n",
       "      <th></th>\n",
       "      <th></th>\n",
       "      <th></th>\n",
       "      <th></th>\n",
       "      <th></th>\n",
       "      <th></th>\n",
       "      <th></th>\n",
       "      <th></th>\n",
       "      <th></th>\n",
       "      <th></th>\n",
       "      <th></th>\n",
       "      <th></th>\n",
       "      <th></th>\n",
       "      <th></th>\n",
       "      <th></th>\n",
       "      <th></th>\n",
       "      <th></th>\n",
       "      <th></th>\n",
       "    </tr>\n",
       "  </thead>\n",
       "  <tbody>\n",
       "    <tr>\n",
       "      <th>2022-01-01 00:00:00</th>\n",
       "      <td>47379.13</td>\n",
       "      <td>793.08192</td>\n",
       "      <td>3750.69</td>\n",
       "      <td>5929.8941</td>\n",
       "      <td>0.1720</td>\n",
       "      <td>13752546.0</td>\n",
       "      <td>173.71</td>\n",
       "      <td>15366.34</td>\n",
       "      <td>34.84</td>\n",
       "      <td>66770.35</td>\n",
       "      <td>148.8</td>\n",
       "      <td>6934.841</td>\n",
       "      <td>520.3</td>\n",
       "      <td>12504.491</td>\n",
       "      <td>0.000034</td>\n",
       "      <td>7.312235e+10</td>\n",
       "      <td>0.8439</td>\n",
       "      <td>3060673.0</td>\n",
       "      <td>262.9</td>\n",
       "      <td>2787.897</td>\n",
       "    </tr>\n",
       "    <tr>\n",
       "      <th>2022-01-01 00:30:00</th>\n",
       "      <td>47192.55</td>\n",
       "      <td>607.65450</td>\n",
       "      <td>3735.61</td>\n",
       "      <td>3423.3115</td>\n",
       "      <td>0.1717</td>\n",
       "      <td>6722588.0</td>\n",
       "      <td>173.26</td>\n",
       "      <td>13494.15</td>\n",
       "      <td>34.77</td>\n",
       "      <td>57637.66</td>\n",
       "      <td>148.1</td>\n",
       "      <td>7045.217</td>\n",
       "      <td>518.0</td>\n",
       "      <td>10650.522</td>\n",
       "      <td>0.000034</td>\n",
       "      <td>7.080380e+10</td>\n",
       "      <td>0.8421</td>\n",
       "      <td>3106081.0</td>\n",
       "      <td>261.3</td>\n",
       "      <td>3476.485</td>\n",
       "    </tr>\n",
       "    <tr>\n",
       "      <th>2022-01-01 01:00:00</th>\n",
       "      <td>47130.36</td>\n",
       "      <td>267.90481</td>\n",
       "      <td>3727.65</td>\n",
       "      <td>2674.4177</td>\n",
       "      <td>0.1716</td>\n",
       "      <td>2736656.0</td>\n",
       "      <td>172.61</td>\n",
       "      <td>16990.42</td>\n",
       "      <td>34.79</td>\n",
       "      <td>23737.43</td>\n",
       "      <td>147.7</td>\n",
       "      <td>3747.091</td>\n",
       "      <td>516.3</td>\n",
       "      <td>14248.945</td>\n",
       "      <td>0.000034</td>\n",
       "      <td>8.492489e+10</td>\n",
       "      <td>0.8415</td>\n",
       "      <td>2017950.0</td>\n",
       "      <td>260.8</td>\n",
       "      <td>1057.201</td>\n",
       "    </tr>\n",
       "    <tr>\n",
       "      <th>2022-01-01 01:30:00</th>\n",
       "      <td>46979.62</td>\n",
       "      <td>346.07295</td>\n",
       "      <td>3711.92</td>\n",
       "      <td>2564.5849</td>\n",
       "      <td>0.1711</td>\n",
       "      <td>5697811.0</td>\n",
       "      <td>172.45</td>\n",
       "      <td>13714.25</td>\n",
       "      <td>34.62</td>\n",
       "      <td>28214.49</td>\n",
       "      <td>147.1</td>\n",
       "      <td>5129.352</td>\n",
       "      <td>515.1</td>\n",
       "      <td>8228.759</td>\n",
       "      <td>0.000034</td>\n",
       "      <td>5.998779e+10</td>\n",
       "      <td>0.8377</td>\n",
       "      <td>7761027.0</td>\n",
       "      <td>259.2</td>\n",
       "      <td>1126.356</td>\n",
       "    </tr>\n",
       "    <tr>\n",
       "      <th>2022-01-01 02:00:00</th>\n",
       "      <td>46959.61</td>\n",
       "      <td>295.25750</td>\n",
       "      <td>3707.96</td>\n",
       "      <td>3287.8317</td>\n",
       "      <td>0.1710</td>\n",
       "      <td>4065516.0</td>\n",
       "      <td>172.40</td>\n",
       "      <td>7702.92</td>\n",
       "      <td>34.69</td>\n",
       "      <td>29227.32</td>\n",
       "      <td>147.2</td>\n",
       "      <td>7548.368</td>\n",
       "      <td>513.8</td>\n",
       "      <td>11165.965</td>\n",
       "      <td>0.000034</td>\n",
       "      <td>6.331962e+10</td>\n",
       "      <td>0.8382</td>\n",
       "      <td>2493952.0</td>\n",
       "      <td>258.4</td>\n",
       "      <td>1561.486</td>\n",
       "    </tr>\n",
       "  </tbody>\n",
       "</table>\n",
       "</div>"
      ],
      "text/plain": [
       "                     BTC_close  BTC_volume  ETH_close  ETH_volume  DOGE_close  \\\n",
       "timestamp                                                                       \n",
       "2022-01-01 00:00:00   47379.13   793.08192    3750.69   5929.8941      0.1720   \n",
       "2022-01-01 00:30:00   47192.55   607.65450    3735.61   3423.3115      0.1717   \n",
       "2022-01-01 01:00:00   47130.36   267.90481    3727.65   2674.4177      0.1716   \n",
       "2022-01-01 01:30:00   46979.62   346.07295    3711.92   2564.5849      0.1711   \n",
       "2022-01-01 02:00:00   46959.61   295.25750    3707.96   3287.8317      0.1710   \n",
       "\n",
       "                     DOGE_volume  SOL_close  SOL_volume  FIL_close  \\\n",
       "timestamp                                                            \n",
       "2022-01-01 00:00:00   13752546.0     173.71    15366.34      34.84   \n",
       "2022-01-01 00:30:00    6722588.0     173.26    13494.15      34.77   \n",
       "2022-01-01 01:00:00    2736656.0     172.61    16990.42      34.79   \n",
       "2022-01-01 01:30:00    5697811.0     172.45    13714.25      34.62   \n",
       "2022-01-01 02:00:00    4065516.0     172.40     7702.92      34.69   \n",
       "\n",
       "                     FIL_volume  LTC_close  LTC_volume  BNB_close  BNB_volume  \\\n",
       "timestamp                                                                       \n",
       "2022-01-01 00:00:00    66770.35      148.8    6934.841      520.3   12504.491   \n",
       "2022-01-01 00:30:00    57637.66      148.1    7045.217      518.0   10650.522   \n",
       "2022-01-01 01:00:00    23737.43      147.7    3747.091      516.3   14248.945   \n",
       "2022-01-01 01:30:00    28214.49      147.1    5129.352      515.1    8228.759   \n",
       "2022-01-01 02:00:00    29227.32      147.2    7548.368      513.8   11165.965   \n",
       "\n",
       "                     SHIB_close   SHIB_volume  XRP_close  XRP_volume  \\\n",
       "timestamp                                                              \n",
       "2022-01-01 00:00:00    0.000034  7.312235e+10     0.8439   3060673.0   \n",
       "2022-01-01 00:30:00    0.000034  7.080380e+10     0.8421   3106081.0   \n",
       "2022-01-01 01:00:00    0.000034  8.492489e+10     0.8415   2017950.0   \n",
       "2022-01-01 01:30:00    0.000034  5.998779e+10     0.8377   7761027.0   \n",
       "2022-01-01 02:00:00    0.000034  6.331962e+10     0.8382   2493952.0   \n",
       "\n",
       "                     AAVE_close  AAVE_volume  \n",
       "timestamp                                     \n",
       "2022-01-01 00:00:00       262.9     2787.897  \n",
       "2022-01-01 00:30:00       261.3     3476.485  \n",
       "2022-01-01 01:00:00       260.8     1057.201  \n",
       "2022-01-01 01:30:00       259.2     1126.356  \n",
       "2022-01-01 02:00:00       258.4     1561.486  "
      ]
     },
     "execution_count": 4,
     "metadata": {},
     "output_type": "execute_result"
    }
   ],
   "source": [
    "df.head()"
   ]
  },
  {
   "cell_type": "code",
   "execution_count": 5,
   "id": "ffd04750",
   "metadata": {},
   "outputs": [],
   "source": [
    "df_fil =df[['FIL_close']]\n",
    "df_fil_ret_ = df_returns[['FIL_return']]"
   ]
  },
  {
   "cell_type": "code",
   "execution_count": 8,
   "id": "c79035fa",
   "metadata": {},
   "outputs": [],
   "source": [
    "df_fil['FIL_open'] = df_fil['FIL_close'].shift()"
   ]
  },
  {
   "cell_type": "code",
   "execution_count": 9,
   "id": "fb02d803",
   "metadata": {},
   "outputs": [],
   "source": [
    "df_fil = pd.merge(df_fil, df_fil_ret_, left_index=True, right_index=True)"
   ]
  },
  {
   "cell_type": "code",
   "execution_count": 10,
   "id": "c8815696",
   "metadata": {},
   "outputs": [],
   "source": [
    "# calculate yesterday's return\n",
    "df_fil['FIL_lag1d_ret'] = df_fil['FIL_return'].shift(48)\n",
    "df_fil = df_fil.dropna()"
   ]
  },
  {
   "cell_type": "code",
   "execution_count": 11,
   "id": "1295595e",
   "metadata": {
    "scrolled": true
   },
   "outputs": [
    {
     "data": {
      "text/html": [
       "<div>\n",
       "<style scoped>\n",
       "    .dataframe tbody tr th:only-of-type {\n",
       "        vertical-align: middle;\n",
       "    }\n",
       "\n",
       "    .dataframe tbody tr th {\n",
       "        vertical-align: top;\n",
       "    }\n",
       "\n",
       "    .dataframe thead th {\n",
       "        text-align: right;\n",
       "    }\n",
       "</style>\n",
       "<table border=\"1\" class=\"dataframe\">\n",
       "  <thead>\n",
       "    <tr style=\"text-align: right;\">\n",
       "      <th></th>\n",
       "      <th>FIL_close</th>\n",
       "      <th>FIL_open</th>\n",
       "      <th>FIL_return</th>\n",
       "      <th>FIL_lag1d_ret</th>\n",
       "    </tr>\n",
       "    <tr>\n",
       "      <th>timestamp</th>\n",
       "      <th></th>\n",
       "      <th></th>\n",
       "      <th></th>\n",
       "      <th></th>\n",
       "    </tr>\n",
       "  </thead>\n",
       "  <tbody>\n",
       "    <tr>\n",
       "      <th>2022-01-02 00:30:00</th>\n",
       "      <td>35.51</td>\n",
       "      <td>35.45</td>\n",
       "      <td>0.001693</td>\n",
       "      <td>-0.002009</td>\n",
       "    </tr>\n",
       "    <tr>\n",
       "      <th>2022-01-02 01:00:00</th>\n",
       "      <td>35.47</td>\n",
       "      <td>35.51</td>\n",
       "      <td>-0.001126</td>\n",
       "      <td>0.000575</td>\n",
       "    </tr>\n",
       "    <tr>\n",
       "      <th>2022-01-02 01:30:00</th>\n",
       "      <td>35.37</td>\n",
       "      <td>35.47</td>\n",
       "      <td>-0.002819</td>\n",
       "      <td>-0.004886</td>\n",
       "    </tr>\n",
       "    <tr>\n",
       "      <th>2022-01-02 02:00:00</th>\n",
       "      <td>35.44</td>\n",
       "      <td>35.37</td>\n",
       "      <td>0.001979</td>\n",
       "      <td>0.002022</td>\n",
       "    </tr>\n",
       "    <tr>\n",
       "      <th>2022-01-02 02:30:00</th>\n",
       "      <td>35.41</td>\n",
       "      <td>35.44</td>\n",
       "      <td>-0.000847</td>\n",
       "      <td>0.004036</td>\n",
       "    </tr>\n",
       "  </tbody>\n",
       "</table>\n",
       "</div>"
      ],
      "text/plain": [
       "                     FIL_close  FIL_open  FIL_return  FIL_lag1d_ret\n",
       "timestamp                                                          \n",
       "2022-01-02 00:30:00      35.51     35.45    0.001693      -0.002009\n",
       "2022-01-02 01:00:00      35.47     35.51   -0.001126       0.000575\n",
       "2022-01-02 01:30:00      35.37     35.47   -0.002819      -0.004886\n",
       "2022-01-02 02:00:00      35.44     35.37    0.001979       0.002022\n",
       "2022-01-02 02:30:00      35.41     35.44   -0.000847       0.004036"
      ]
     },
     "execution_count": 11,
     "metadata": {},
     "output_type": "execute_result"
    }
   ],
   "source": [
    "df_fil.head()"
   ]
  },
  {
   "cell_type": "code",
   "execution_count": 12,
   "id": "f4e18927",
   "metadata": {},
   "outputs": [
    {
     "name": "stdout",
     "output_type": "stream",
     "text": [
      "Profit via strategy:  166.64000000000036\n",
      "Profit buy open sell close:  -324.24\n"
     ]
    }
   ],
   "source": [
    "df_fil['FIL_profit'] = np.where(df_fil['FIL_lag1d_ret'] < 0, # if negative returns\n",
    "                                (df_fil['FIL_close'] - df_fil['FIL_open']) * 10, # we short open and long close to earn profit\n",
    "                                (df_fil['FIL_open'] - df_fil['FIL_close']) * 10) # instead, we long open and short close\n",
    "# calculate the profit if we buy open sell close all the time\n",
    "df_fil['FIL_profit_r'] = (df_fil['FIL_close'] - df_fil['FIL_open']) * 10\n",
    "# sum of profit\n",
    "print('Profit via strategy: ', df_fil.FIL_profit.sum())\n",
    "print('Profit buy open sell close: ', df_fil.FIL_profit_r.sum())"
   ]
  },
  {
   "cell_type": "code",
   "execution_count": 13,
   "id": "7d9d43a8",
   "metadata": {},
   "outputs": [
    {
     "name": "stdout",
     "output_type": "stream",
     "text": [
      "Profit if invest $1000:  469.2762602083929\n"
     ]
    }
   ],
   "source": [
    "# invest $1000 in the beginning, calculate the profit at the end of the year\n",
    "position = 1000 / df_fil.iloc[0, 0]\n",
    "df_fil['FIL_profit_f'] = np.where(df_fil['FIL_lag1d_ret'] < 0, # if negative returns\n",
    "                                (df_fil['FIL_close'] - df_fil['FIL_open']) * position, # we short open and long close to earn profit\n",
    "                                (df_fil['FIL_open'] - df_fil['FIL_close']) * position) # instead, we long open and short close\n",
    "print('Profit if invest $1000: ', df_fil.FIL_profit_f.sum())"
   ]
  },
  {
   "cell_type": "markdown",
   "id": "8a19622b",
   "metadata": {},
   "source": [
    "#### What about Bitcoin"
   ]
  },
  {
   "cell_type": "code",
   "execution_count": 14,
   "id": "05e8a3bd",
   "metadata": {},
   "outputs": [],
   "source": [
    "df_btc =df[['BTC_close']]\n",
    "df_btc_ret_ = df_returns[['BTC_return']]\n",
    "df_btc['BTC_open'] = df_btc['BTC_close'].shift()\n",
    "df_btc = pd.merge(df_btc, df_btc_ret_, left_index=True, right_index=True)"
   ]
  },
  {
   "cell_type": "code",
   "execution_count": 15,
   "id": "7211d81d",
   "metadata": {},
   "outputs": [],
   "source": [
    "# calculate yesterday's return\n",
    "df_btc['BTC_lag1d_ret'] = df_btc['BTC_return'].shift(48)\n",
    "df_btc = df_btc.dropna()"
   ]
  },
  {
   "cell_type": "code",
   "execution_count": 16,
   "id": "35d8b16e",
   "metadata": {},
   "outputs": [
    {
     "data": {
      "text/html": [
       "<div>\n",
       "<style scoped>\n",
       "    .dataframe tbody tr th:only-of-type {\n",
       "        vertical-align: middle;\n",
       "    }\n",
       "\n",
       "    .dataframe tbody tr th {\n",
       "        vertical-align: top;\n",
       "    }\n",
       "\n",
       "    .dataframe thead th {\n",
       "        text-align: right;\n",
       "    }\n",
       "</style>\n",
       "<table border=\"1\" class=\"dataframe\">\n",
       "  <thead>\n",
       "    <tr style=\"text-align: right;\">\n",
       "      <th></th>\n",
       "      <th>BTC_close</th>\n",
       "      <th>BTC_open</th>\n",
       "      <th>BTC_return</th>\n",
       "      <th>BTC_lag1d_ret</th>\n",
       "    </tr>\n",
       "    <tr>\n",
       "      <th>timestamp</th>\n",
       "      <th></th>\n",
       "      <th></th>\n",
       "      <th></th>\n",
       "      <th></th>\n",
       "    </tr>\n",
       "  </thead>\n",
       "  <tbody>\n",
       "    <tr>\n",
       "      <th>2022-01-02 00:30:00</th>\n",
       "      <td>47081.28</td>\n",
       "      <td>46945.27</td>\n",
       "      <td>0.002897</td>\n",
       "      <td>-0.003938</td>\n",
       "    </tr>\n",
       "    <tr>\n",
       "      <th>2022-01-02 01:00:00</th>\n",
       "      <td>47106.80</td>\n",
       "      <td>47081.28</td>\n",
       "      <td>0.000542</td>\n",
       "      <td>-0.001318</td>\n",
       "    </tr>\n",
       "    <tr>\n",
       "      <th>2022-01-02 01:30:00</th>\n",
       "      <td>47122.61</td>\n",
       "      <td>47106.80</td>\n",
       "      <td>0.000336</td>\n",
       "      <td>-0.003198</td>\n",
       "    </tr>\n",
       "    <tr>\n",
       "      <th>2022-01-02 02:00:00</th>\n",
       "      <td>47181.44</td>\n",
       "      <td>47122.61</td>\n",
       "      <td>0.001248</td>\n",
       "      <td>-0.000426</td>\n",
       "    </tr>\n",
       "    <tr>\n",
       "      <th>2022-01-02 02:30:00</th>\n",
       "      <td>47173.45</td>\n",
       "      <td>47181.44</td>\n",
       "      <td>-0.000169</td>\n",
       "      <td>0.005007</td>\n",
       "    </tr>\n",
       "  </tbody>\n",
       "</table>\n",
       "</div>"
      ],
      "text/plain": [
       "                     BTC_close  BTC_open  BTC_return  BTC_lag1d_ret\n",
       "timestamp                                                          \n",
       "2022-01-02 00:30:00   47081.28  46945.27    0.002897      -0.003938\n",
       "2022-01-02 01:00:00   47106.80  47081.28    0.000542      -0.001318\n",
       "2022-01-02 01:30:00   47122.61  47106.80    0.000336      -0.003198\n",
       "2022-01-02 02:00:00   47181.44  47122.61    0.001248      -0.000426\n",
       "2022-01-02 02:30:00   47173.45  47181.44   -0.000169       0.005007"
      ]
     },
     "execution_count": 16,
     "metadata": {},
     "output_type": "execute_result"
    }
   ],
   "source": [
    "df_btc.head()"
   ]
  },
  {
   "cell_type": "code",
   "execution_count": 17,
   "id": "044e9832",
   "metadata": {},
   "outputs": [
    {
     "name": "stdout",
     "output_type": "stream",
     "text": [
      "Profit via strategy:  174617.60000000361\n",
      "Profit buy open sell close:  -304242.0\n"
     ]
    }
   ],
   "source": [
    "df_btc['BTC_profit'] = np.where(df_btc['BTC_lag1d_ret'] < 0, # if negative returns\n",
    "                                (df_btc['BTC_close'] - df_btc['BTC_open']) * 10, # we short open and long close to earn profit\n",
    "                                (df_btc['BTC_open'] - df_btc['BTC_close']) * 10) # instead, we long open and short close\n",
    "# calculate the profit if we buy open sell close all the time\n",
    "df_btc['BTC_profit_r'] = (df_btc['BTC_close'] - df_btc['BTC_open']) * 10\n",
    "\n",
    "print('Profit via strategy: ', df_btc.BTC_profit.sum())\n",
    "print('Profit buy open sell close: ', df_btc.BTC_profit_r.sum())"
   ]
  },
  {
   "cell_type": "code",
   "execution_count": 18,
   "id": "27f928cb",
   "metadata": {},
   "outputs": [
    {
     "name": "stdout",
     "output_type": "stream",
     "text": [
      "Profit if invest $1000:  370.8854134806947\n"
     ]
    }
   ],
   "source": [
    "# invest $1000 in the beginning, calculate the profit at the end of the year\n",
    "position = 1000 / df_btc.iloc[0, 0]\n",
    "df_btc['BTC_profit_f'] = np.where(df_btc['BTC_lag1d_ret'] < 0, # if negative returns\n",
    "                                (df_btc['BTC_close'] - df_btc['BTC_open']) * position, # we short open and long close to earn profit\n",
    "                                (df_btc['BTC_open'] - df_btc['BTC_close']) * position) # instead, we long open and short close\n",
    "print('Profit if invest $1000: ', df_btc.BTC_profit_f.sum())"
   ]
  },
  {
   "cell_type": "markdown",
   "id": "e0974330",
   "metadata": {},
   "source": [
    "#### Apply same calculation for all coins"
   ]
  },
  {
   "cell_type": "markdown",
   "id": "7d7b465d",
   "metadata": {},
   "source": [
    "#### ETH"
   ]
  },
  {
   "cell_type": "code",
   "execution_count": 19,
   "id": "83cce68c",
   "metadata": {
    "scrolled": true
   },
   "outputs": [
    {
     "name": "stdout",
     "output_type": "stream",
     "text": [
      "Profit via strategy:  32726.199999999943\n",
      "Profit buy open sell close:  -25359.399999999994\n"
     ]
    }
   ],
   "source": [
    "df_eth =df[['ETH_close']]\n",
    "df_eth_ret_ = df_returns[['ETH_return']]\n",
    "df_eth['ETH_open'] = df_eth['ETH_close'].shift()\n",
    "df_eth = pd.merge(df_eth, df_eth_ret_, left_index=True, right_index=True)\n",
    "# calculate yesterday's return\n",
    "df_eth['ETH_lag1d_ret'] = df_eth['ETH_return'].shift(48)\n",
    "df_eth = df_eth.dropna()\n",
    "df_eth['ETH_profit'] = np.where(df_eth['ETH_lag1d_ret'] < 0, # if negative returns\n",
    "                                (df_eth['ETH_close'] - df_eth['ETH_open']) * 10, # we short open and long close to earn profit\n",
    "                                (df_eth['ETH_open'] - df_eth['ETH_close']) * 10) # instead, we long open and short close\n",
    "# calculate the profit if we buy open sell close all the time\n",
    "df_eth['ETH_profit_r'] = (df_eth['ETH_close'] - df_eth['ETH_open']) * 10\n",
    "\n",
    "print('Profit via strategy: ', df_eth.ETH_profit.sum())\n",
    "print('Profit buy open sell close: ', df_eth.ETH_profit_r.sum())"
   ]
  },
  {
   "cell_type": "code",
   "execution_count": 20,
   "id": "0e65bd30",
   "metadata": {},
   "outputs": [
    {
     "name": "stdout",
     "output_type": "stream",
     "text": [
      "Profit if invest $1000:  873.9361602696071\n"
     ]
    }
   ],
   "source": [
    "# invest $1000 in the beginning, calculate the profit at the end of the year\n",
    "position = 1000 / df_eth.iloc[0, 0]\n",
    "df_eth['ETH_profit_f'] = np.where(df_eth['ETH_lag1d_ret'] < 0, # if negative returns\n",
    "                                (df_eth['ETH_close'] - df_eth['ETH_open']) * position, # we short open and long close to earn profit\n",
    "                                (df_eth['ETH_open'] - df_eth['ETH_close']) * position) # instead, we long open and short close\n",
    "print('Profit if invest $1000: ', df_eth.ETH_profit_f.sum())"
   ]
  },
  {
   "cell_type": "markdown",
   "id": "550d17b5",
   "metadata": {},
   "source": [
    "#### DOGE"
   ]
  },
  {
   "cell_type": "code",
   "execution_count": 21,
   "id": "91e51b4e",
   "metadata": {
    "scrolled": true
   },
   "outputs": [
    {
     "name": "stdout",
     "output_type": "stream",
     "text": [
      "Profit via strategy:  4.8559999999999945\n",
      "Profit buy open sell close:  -1.018\n"
     ]
    }
   ],
   "source": [
    "df_doge =df[['DOGE_close']]\n",
    "df_doge_ret_ = df_returns[['DOGE_return']]\n",
    "df_doge['DOGE_open'] = df_doge['DOGE_close'].shift()\n",
    "df_doge = pd.merge(df_doge, df_doge_ret_, left_index=True, right_index=True)\n",
    "# calculate yesterday's return\n",
    "df_doge['DOGE_lag1d_ret'] = df_doge['DOGE_return'].shift(48)\n",
    "df_doge = df_doge.dropna()\n",
    "df_doge['DOGE_profit'] = np.where(df_doge['DOGE_lag1d_ret'] < 0, # if negative returns\n",
    "                                (df_doge['DOGE_close'] - df_doge['DOGE_open']) * 10, # we short open and long close to earn profit\n",
    "                                (df_doge['DOGE_open'] - df_doge['DOGE_close']) * 10) # instead, we long open and short close\n",
    "# calculate the profit if we buy open sell close all the time\n",
    "df_doge['DOGE_profit_r'] = (df_doge['DOGE_close'] - df_doge['DOGE_open']) * 10\n",
    "\n",
    "print('Profit via strategy: ', df_doge.DOGE_profit.sum())\n",
    "print('Profit buy open sell close: ', df_doge.DOGE_profit_r.sum())"
   ]
  },
  {
   "cell_type": "code",
   "execution_count": 22,
   "id": "c877378d",
   "metadata": {},
   "outputs": [
    {
     "name": "stdout",
     "output_type": "stream",
     "text": [
      "Profit if invest $1000:  2828.1887012230613\n"
     ]
    }
   ],
   "source": [
    "# invest $1000 in the beginning, calculate the profit at the end of the year\n",
    "position = 1000 / df_doge.iloc[0, 0]\n",
    "df_doge['DOGE_profit_f'] = np.where(df_doge['DOGE_lag1d_ret'] < 0, # if negative returns\n",
    "                                (df_doge['DOGE_close'] - df_doge['DOGE_open']) * position, # we short open and long close to earn profit\n",
    "                                (df_doge['DOGE_open'] - df_doge['DOGE_close']) * position) # instead, we long open and short close\n",
    "print('Profit if invest $1000: ', df_doge.DOGE_profit_f.sum())"
   ]
  },
  {
   "cell_type": "markdown",
   "id": "ffdf39ec",
   "metadata": {},
   "source": [
    "#### SOL"
   ]
  },
  {
   "cell_type": "code",
   "execution_count": 23,
   "id": "f2942d52",
   "metadata": {
    "scrolled": true
   },
   "outputs": [
    {
     "name": "stdout",
     "output_type": "stream",
     "text": [
      "Profit via strategy:  2144.9999999999995\n",
      "Profit buy open sell close:  -1665.2\n"
     ]
    }
   ],
   "source": [
    "df_sol =df[['SOL_close']]\n",
    "df_sol_ret_ = df_returns[['SOL_return']]\n",
    "df_sol['SOL_open'] = df_sol['SOL_close'].shift()\n",
    "df_sol = pd.merge(df_sol, df_sol_ret_, left_index=True, right_index=True)\n",
    "# calculate yesterday's return\n",
    "df_sol['SOL_lag1d_ret'] = df_sol['SOL_return'].shift(48)\n",
    "df_sol = df_sol.dropna()\n",
    "df_sol['SOL_profit'] = np.where(df_sol['SOL_lag1d_ret'] < 0, # if negative returns\n",
    "                                (df_sol['SOL_close'] - df_sol['SOL_open']) * 10, # we short open and long close to earn profit\n",
    "                                (df_sol['SOL_open'] - df_sol['SOL_close']) * 10) # instead, we long open and short close\n",
    "# calculate the profit if we buy open sell close all the time\n",
    "df_sol['SOL_profit_r'] = (df_sol['SOL_close'] - df_sol['SOL_open']) * 10\n",
    "\n",
    "print('Profit via strategy: ', df_sol.SOL_profit.sum())\n",
    "print('Profit buy open sell close: ', df_sol.SOL_profit_r.sum())"
   ]
  },
  {
   "cell_type": "code",
   "execution_count": 24,
   "id": "4a683ffc",
   "metadata": {},
   "outputs": [
    {
     "name": "stdout",
     "output_type": "stream",
     "text": [
      "Profit if invest $1000:  1214.334239130435\n"
     ]
    }
   ],
   "source": [
    "# invest $1000 in the beginning, calculate the profit at the end of the year\n",
    "position = 1000 / df_sol.iloc[0, 0]\n",
    "df_sol['SOL_profit_f'] = np.where(df_sol['SOL_lag1d_ret'] < 0, # if negative returns\n",
    "                                (df_sol['SOL_close'] - df_sol['SOL_open']) * position, # we short open and long close to earn profit\n",
    "                                (df_sol['SOL_open'] - df_sol['SOL_close']) * position) # instead, we long open and short close\n",
    "print('Profit if invest $1000: ', df_sol.SOL_profit_f.sum())"
   ]
  },
  {
   "cell_type": "markdown",
   "id": "4174fd3b",
   "metadata": {},
   "source": [
    "#### LTC"
   ]
  },
  {
   "cell_type": "code",
   "execution_count": 25,
   "id": "372ad1e5",
   "metadata": {
    "scrolled": true
   },
   "outputs": [
    {
     "name": "stdout",
     "output_type": "stream",
     "text": [
      "Profit via strategy:  1825.1999999999985\n",
      "Profit buy open sell close:  -795.8\n"
     ]
    }
   ],
   "source": [
    "df_ltc =df[['LTC_close']]\n",
    "df_ltc_ret_ = df_returns[['LTC_return']]\n",
    "df_ltc['LTC_open'] = df_ltc['LTC_close'].shift()\n",
    "df_ltc = pd.merge(df_ltc, df_ltc_ret_, left_index=True, right_index=True)\n",
    "# calculate yesterday's return\n",
    "df_ltc['LTC_lag1d_ret'] = df_ltc['LTC_return'].shift(48)\n",
    "df_ltc = df_ltc.dropna()\n",
    "df_ltc['LTC_profit'] = np.where(df_ltc['LTC_lag1d_ret'] < 0, # if negative returns\n",
    "                                (df_ltc['LTC_close'] - df_ltc['LTC_open']) * 10, # we short open and long close to earn profit\n",
    "                                (df_ltc['LTC_open'] - df_ltc['LTC_close']) * 10) # instead, we long open and short close\n",
    "# calculate the profit if we buy open sell close all the time\n",
    "df_ltc['LTC_profit_r'] = (df_ltc['LTC_close'] - df_ltc['LTC_open']) * 10\n",
    "\n",
    "print('Profit via strategy: ', df_ltc.LTC_profit.sum())\n",
    "print('Profit buy open sell close: ', df_ltc.LTC_profit_r.sum())"
   ]
  },
  {
   "cell_type": "code",
   "execution_count": 26,
   "id": "69dc05c5",
   "metadata": {},
   "outputs": [
    {
     "name": "stdout",
     "output_type": "stream",
     "text": [
      "Profit if invest $1000:  1222.5050234427317\n"
     ]
    }
   ],
   "source": [
    "# invest $1000 in the beginning, calculate the profit at the end of the year\n",
    "position = 1000 / df_ltc.iloc[0, 0]\n",
    "df_ltc['LTC_profit_f'] = np.where(df_ltc['LTC_lag1d_ret'] < 0, # if negative returns\n",
    "                                (df_ltc['LTC_close'] - df_ltc['LTC_open']) * position, # we short open and long close to earn profit\n",
    "                                (df_ltc['LTC_open'] - df_ltc['LTC_close']) * position) # instead, we long open and short close\n",
    "print('Profit if invest $1000: ', df_ltc.LTC_profit_f.sum())"
   ]
  },
  {
   "cell_type": "markdown",
   "id": "bde60769",
   "metadata": {},
   "source": [
    "#### BNB"
   ]
  },
  {
   "cell_type": "code",
   "execution_count": 27,
   "id": "eb3ff9a4",
   "metadata": {
    "scrolled": true
   },
   "outputs": [
    {
     "name": "stdout",
     "output_type": "stream",
     "text": [
      "Profit via strategy:  5643.999999999951\n",
      "Profit buy open sell close:  -2772.0\n"
     ]
    }
   ],
   "source": [
    "df_bnb =df[['BNB_close']]\n",
    "df_bnb_ret_ = df_returns[['BNB_return']]\n",
    "df_bnb['BNB_open'] = df_bnb['BNB_close'].shift()\n",
    "df_bnb = pd.merge(df_bnb, df_bnb_ret_, left_index=True, right_index=True)\n",
    "# calculate yesterday's return\n",
    "df_bnb['BNB_lag1d_ret'] = df_bnb['BNB_return'].shift(48)\n",
    "df_bnb = df_bnb.dropna()\n",
    "df_bnb['BNB_profit'] = np.where(df_bnb['BNB_lag1d_ret'] < 0, # if negative returns\n",
    "                                (df_bnb['BNB_close'] - df_bnb['BNB_open']) * 10, # we short open and long close to earn profit\n",
    "                                (df_bnb['BNB_open'] - df_bnb['BNB_close']) * 10) # instead, we long open and short close\n",
    "# calculate the profit if we buy open sell close all the time\n",
    "df_bnb['BNB_profit_r'] = (df_bnb['BNB_close'] - df_bnb['BNB_open']) * 10\n",
    "\n",
    "print('Profit via strategy: ', df_bnb.BNB_profit.sum())\n",
    "print('Profit buy open sell close: ', df_bnb.BNB_profit_r.sum())"
   ]
  },
  {
   "cell_type": "code",
   "execution_count": 28,
   "id": "759f5795",
   "metadata": {},
   "outputs": [
    {
     "name": "stdout",
     "output_type": "stream",
     "text": [
      "Profit if invest $1000:  1079.3650793650702\n"
     ]
    }
   ],
   "source": [
    "# invest $1000 in the beginning, calculate the profit at the end of the year\n",
    "position = 1000 / df_bnb.iloc[0, 0]\n",
    "df_bnb['BNB_profit_f'] = np.where(df_bnb['BNB_lag1d_ret'] < 0, # if negative returns\n",
    "                                (df_bnb['BNB_close'] - df_bnb['BNB_open']) * position, # we short open and long close to earn profit\n",
    "                                (df_bnb['BNB_open'] - df_bnb['BNB_close']) * position) # instead, we long open and short close\n",
    "print('Profit if invest $1000: ', df_bnb.BNB_profit_f.sum())"
   ]
  },
  {
   "cell_type": "markdown",
   "id": "337294bc",
   "metadata": {},
   "source": [
    "#### SHIB"
   ]
  },
  {
   "cell_type": "code",
   "execution_count": 29,
   "id": "1b51e159",
   "metadata": {
    "scrolled": true
   },
   "outputs": [
    {
     "name": "stdout",
     "output_type": "stream",
     "text": [
      "Profit via strategy:  0.001062599999999999\n",
      "Profit buy open sell close:  -0.000256\n"
     ]
    }
   ],
   "source": [
    "df_shib =df[['SHIB_close']]\n",
    "df_shib_ret_ = df_returns[['SHIB_return']]\n",
    "df_shib['SHIB_open'] = df_shib['SHIB_close'].shift()\n",
    "df_shib = pd.merge(df_shib, df_shib_ret_, left_index=True, right_index=True)\n",
    "# calculate yesterday's return\n",
    "df_shib['SHIB_lag1d_ret'] = df_shib['SHIB_return'].shift(48)\n",
    "df_shib = df_shib.dropna()\n",
    "df_shib['SHIB_profit'] = np.where(df_shib['SHIB_lag1d_ret'] < 0, # if negative returns\n",
    "                                (df_shib['SHIB_close'] - df_shib['SHIB_open']) * 10, # we short open and long close to earn profit\n",
    "                                (df_shib['SHIB_open'] - df_shib['SHIB_close']) * 10) # instead, we long open and short close\n",
    "# calculate the profit if we buy open sell close all the time\n",
    "df_shib['SHIB_profit_r'] = (df_shib['SHIB_close'] - df_shib['SHIB_open']) * 10\n",
    "\n",
    "print('Profit via strategy: ', df_shib.SHIB_profit.sum())\n",
    "print('Profit buy open sell close: ', df_shib.SHIB_profit_r.sum())"
   ]
  },
  {
   "cell_type": "code",
   "execution_count": 30,
   "id": "a3814bdb",
   "metadata": {},
   "outputs": [
    {
     "name": "stdout",
     "output_type": "stream",
     "text": [
      "Profit if invest $1000:  3151.24555160142\n"
     ]
    }
   ],
   "source": [
    "# invest $1000 in the beginning, calculate the profit at the end of the year\n",
    "position = 1000 / df_shib.iloc[0, 0]\n",
    "df_shib['SHIB_profit_f'] = np.where(df_shib['SHIB_lag1d_ret'] < 0, # if negative returns\n",
    "                                (df_shib['SHIB_close'] - df_shib['SHIB_open']) * position, # we short open and long close to earn profit\n",
    "                                (df_shib['SHIB_open'] - df_shib['SHIB_close']) * position) # instead, we long open and short close\n",
    "print('Profit if invest $1000: ', df_shib.SHIB_profit_f.sum())"
   ]
  },
  {
   "cell_type": "markdown",
   "id": "d5762216",
   "metadata": {},
   "source": [
    "#### XRP"
   ]
  },
  {
   "cell_type": "code",
   "execution_count": 31,
   "id": "ede9d824",
   "metadata": {
    "scrolled": true
   },
   "outputs": [
    {
     "name": "stdout",
     "output_type": "stream",
     "text": [
      "Profit via strategy:  7.303999999999936\n",
      "Profit buy open sell close:  -5.039999999999999\n"
     ]
    }
   ],
   "source": [
    "df_xrp =df[['XRP_close']]\n",
    "df_xrp_ret_ = df_returns[['XRP_return']]\n",
    "df_xrp['XRP_open'] = df_xrp['XRP_close'].shift()\n",
    "df_xrp = pd.merge(df_xrp, df_xrp_ret_, left_index=True, right_index=True)\n",
    "# calculate yesterday's return\n",
    "df_xrp['XRP_lag1d_ret'] = df_xrp['XRP_return'].shift(48)\n",
    "df_xrp = df_xrp.dropna()\n",
    "df_xrp['XRP_profit'] = np.where(df_xrp['XRP_lag1d_ret'] < 0, # if negative returns\n",
    "                                (df_xrp['XRP_close'] - df_xrp['XRP_open']) * 10, # we short open and long close to earn profit\n",
    "                                (df_xrp['XRP_open'] - df_xrp['XRP_close']) * 10) # instead, we long open and short close\n",
    "# calculate the profit if we buy open sell close all the time\n",
    "df_xrp['XRP_profit_r'] = (df_xrp['XRP_close'] - df_xrp['XRP_open']) * 10\n",
    "\n",
    "print('Profit via strategy: ', df_xrp.XRP_profit.sum())\n",
    "print('Profit buy open sell close: ', df_xrp.XRP_profit_r.sum())"
   ]
  },
  {
   "cell_type": "code",
   "execution_count": 32,
   "id": "e50f3ddf",
   "metadata": {},
   "outputs": [
    {
     "name": "stdout",
     "output_type": "stream",
     "text": [
      "Profit if invest $1000:  866.2239089183986\n"
     ]
    }
   ],
   "source": [
    "# invest $1000 in the beginning, calculate the profit at the end of the year\n",
    "position = 1000 / df_xrp.iloc[0, 0]\n",
    "df_xrp['XRP_profit_f'] = np.where(df_xrp['XRP_lag1d_ret'] < 0, # if negative returns\n",
    "                                (df_xrp['XRP_close'] - df_xrp['XRP_open']) * position, # we short open and long close to earn profit\n",
    "                                (df_xrp['XRP_open'] - df_xrp['XRP_close']) * position) # instead, we long open and short close\n",
    "print('Profit if invest $1000: ', df_xrp.XRP_profit_f.sum())"
   ]
  },
  {
   "cell_type": "markdown",
   "id": "6b7f67d2",
   "metadata": {},
   "source": [
    "#### AAVE"
   ]
  },
  {
   "cell_type": "code",
   "execution_count": 33,
   "id": "ba682df0",
   "metadata": {
    "scrolled": true
   },
   "outputs": [
    {
     "name": "stdout",
     "output_type": "stream",
     "text": [
      "Profit via strategy:  2198.9999999999877\n",
      "Profit buy open sell close:  -2055.0\n"
     ]
    }
   ],
   "source": [
    "df_aave =df[['AAVE_close']]\n",
    "df_aave_ret_ = df_returns[['AAVE_return']]\n",
    "df_aave['AAVE_open'] = df_aave['AAVE_close'].shift()\n",
    "df_aave = pd.merge(df_aave, df_aave_ret_, left_index=True, right_index=True)\n",
    "# calculate yesterday's return\n",
    "df_aave['AAVE_lag1d_ret'] = df_aave['AAVE_return'].shift(48)\n",
    "df_aave = df_aave.dropna()\n",
    "df_aave['AAVE_profit'] = np.where(df_aave['AAVE_lag1d_ret'] < 0, # if negative returns\n",
    "                                (df_aave['AAVE_close'] - df_aave['AAVE_open']) * 10, # we short open and long close to earn profit\n",
    "                                (df_aave['AAVE_open'] - df_aave['AAVE_close']) * 10) # instead, we long open and short close\n",
    "# calculate the profit if we buy open sell close all the time\n",
    "df_aave['AAVE_profit_r'] = (df_aave['AAVE_close'] - df_aave['AAVE_open']) * 10\n",
    "\n",
    "print('Profit via strategy: ', df_aave.AAVE_profit.sum())\n",
    "print('Profit buy open sell close: ', df_aave.AAVE_profit_r.sum())"
   ]
  },
  {
   "cell_type": "code",
   "execution_count": 34,
   "id": "739fe413",
   "metadata": {},
   "outputs": [
    {
     "name": "stdout",
     "output_type": "stream",
     "text": [
      "Profit if invest $1000:  863.0298273155369\n"
     ]
    }
   ],
   "source": [
    "# invest $1000 in the beginning, calculate the profit at the end of the year\n",
    "position = 1000 / df_aave.iloc[0, 0]\n",
    "df_aave['AAVE_profit_f'] = np.where(df_aave['AAVE_lag1d_ret'] < 0, # if negative returns\n",
    "                                (df_aave['AAVE_close'] - df_aave['AAVE_open']) * position, # we short open and long close to earn profit\n",
    "                                (df_aave['AAVE_open'] - df_aave['AAVE_close']) * position) # instead, we long open and short close\n",
    "print('Profit if invest $1000: ', df_aave.AAVE_profit_f.sum())"
   ]
  }
 ],
 "metadata": {
  "kernelspec": {
   "display_name": "Python 3 (ipykernel)",
   "language": "python",
   "name": "python3"
  },
  "language_info": {
   "codemirror_mode": {
    "name": "ipython",
    "version": 3
   },
   "file_extension": ".py",
   "mimetype": "text/x-python",
   "name": "python",
   "nbconvert_exporter": "python",
   "pygments_lexer": "ipython3",
   "version": "3.9.16"
  }
 },
 "nbformat": 4,
 "nbformat_minor": 5
}
